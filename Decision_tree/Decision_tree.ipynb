{
 "cells": [
  {
   "cell_type": "code",
   "execution_count": 1,
   "metadata": {},
   "outputs": [],
   "source": [
    "import numpy as np\n",
    "import pandas as pd\n",
    "import matplotlib.pyplot as plt"
   ]
  },
  {
   "cell_type": "code",
   "execution_count": 4,
   "metadata": {},
   "outputs": [],
   "source": [
    "def split(array):\n",
    "    dic={}\n",
    "    for i in np.unique(array):\n",
    "        dic.update({i:np.where(array==i)[0]})\n",
    "    return dic"
   ]
  },
  {
   "cell_type": "code",
   "execution_count": 5,
   "metadata": {},
   "outputs": [
    {
     "name": "stdout",
     "output_type": "stream",
     "text": [
      "{0: array([0]), 1: array([1]), 2: array([2])}\n",
      "{0: array([1, 3, 4, 6]), 1: array([0, 2, 5])}\n",
      "{0: array([1, 4]), 1: array([0, 5, 6]), 2: array([3]), 3: array([2])}\n"
     ]
    }
   ],
   "source": [
    "print(split(np.array([0,1,2])))\n",
    "print(split(np.array([1,0,1,0,0,1,0])))\n",
    "print(split(np.array([1,0,3,2,0,1,1])))"
   ]
  },
  {
   "cell_type": "code",
   "execution_count": 6,
   "metadata": {},
   "outputs": [],
   "source": [
    "import math\n",
    "def entropy(array):\n",
    "    b_list=[]\n",
    "    for i in np.unique(array):\n",
    "        p=len(np.where(array==i)[0])/len(array)\n",
    "        b_list.append(p*math.log2(p))\n",
    "    return -sum(b_list)"
   ]
  },
  {
   "cell_type": "code",
   "execution_count": 7,
   "metadata": {},
   "outputs": [
    {
     "name": "stdout",
     "output_type": "stream",
     "text": [
      "1.0\n",
      "1.0\n",
      "-0.0\n",
      "0.4395\n",
      "-0.0\n",
      "1.6577\n"
     ]
    }
   ],
   "source": [
    "print(round(entropy(np.array([0,1,0,1,1,0])),4))\n",
    "print(round(entropy(np.array([1,2])),4))\n",
    "print(round(entropy(np.array([1,1])),4))\n",
    "print(round(entropy(np.array([1,0,0,0,0,0,0,0,0,0,0])),4))\n",
    "print(round(entropy(np.array([0,0,0])),4))\n",
    "print(round(entropy(np.array([1,1,1,0,1,4,4,2,1])),4))"
   ]
  },
  {
   "cell_type": "code",
   "execution_count": 8,
   "metadata": {},
   "outputs": [],
   "source": [
    "def IG(x,y):\n",
    "    parent_entropy=entropy(y)\n",
    "    split_dict=[split(x).get(k) for k in np.unique(x)]\n",
    "    for i in split_dict:\n",
    "        freq=len(x[[k for k in i]])/len(x)\n",
    "        child_entropy=freq*entropy(y[[k for k in i]])\n",
    "        parent_entropy=parent_entropy-child_entropy\n",
    "    return parent_entropy"
   ]
  },
  {
   "cell_type": "code",
   "execution_count": 9,
   "metadata": {},
   "outputs": [
    {
     "name": "stdout",
     "output_type": "stream",
     "text": [
      "0.4591\n",
      "0.2516\n",
      "0.9183\n"
     ]
    }
   ],
   "source": [
    "x=np.array([0,1,0,1,0,1])\n",
    "y=np.array([0,1,0,1,1,1])\n",
    "print(round(IG(x,y),4))\n",
    "x=np.array([0,0,1,1,2,2])\n",
    "y=np.array([0,1,0,1,1,1])\n",
    "print(round(IG(x,y),4))\n",
    "x=np.array([0,1,0,1,2,1])\n",
    "y=np.array([0,1,0,1,1,1])\n",
    "print(round(IG(x,y),4))"
   ]
  },
  {
   "cell_type": "code",
   "execution_count": 10,
   "metadata": {},
   "outputs": [],
   "source": [
    "def make_tree(X,y,attribute):\n",
    "    if y.shape[0]==1 or y.shape[0]==0:\n",
    "        return y\n",
    "\n",
    "    gains=[]\n",
    "    if len(X.T)==1:\n",
    "        gain=IG(X.T,y)\n",
    "        if (gain<=1e-05):\n",
    "            return y\n",
    "        gains.append(gain)\n",
    "    else:\n",
    "        for x in X.T:\n",
    "            gain=IG(x,y)\n",
    "\n",
    "            if (gain<=1e-05):\n",
    "                return y\n",
    "\n",
    "            gains.append(gain)\n",
    "    #print(gains)\n",
    "    best_feature=np.argmax(gains)\n",
    "    #print(best_feature)\n",
    "    results={}\n",
    "    \n",
    "    subset_dict=split(X[:,best_feature])\n",
    "    #print(subset_dict)\n",
    "    for feature_value,train_example_indices in subset_dict.items():\n",
    "        #print(train_example_indices)\n",
    "        child_x_subset=np.delete(X[train_example_indices],best_feature,1)\n",
    "        child_y_subset=y[train_example_indices]\n",
    "        child_attribute=attribute[attribute != attribute[best_feature]]\n",
    "        #print(child_x_subset)\n",
    "\n",
    "        results[\"%s = %s\" %(attribute[best_feature], feature_value)] = make_tree(child_x_subset, child_y_subset,child_attribute)\n",
    "\n",
    "    return results"
   ]
  },
  {
   "cell_type": "code",
   "execution_count": 15,
   "metadata": {
    "scrolled": true
   },
   "outputs": [],
   "source": [
    "x=pd.read_csv(\"dataset/tennis.csv\").iloc[:,1:-1].values\n",
    "y=pd.read_csv(\"dataset/tennis.csv\").iloc[:,-1].values\n",
    "attribute=pd.read_csv(\"dataset/tennis.csv\").iloc[:,1:-1].columns.values"
   ]
  },
  {
   "cell_type": "code",
   "execution_count": 16,
   "metadata": {},
   "outputs": [
    {
     "name": "stdout",
     "output_type": "stream",
     "text": [
      "['outlook' 'temp' 'humidity' 'wind']\n",
      "[['Sunny' 'Hot' 'High' 'Weak']\n",
      " ['Sunny' 'Hot' 'High' 'Strong']\n",
      " ['Overcast' 'Hot' 'High' 'Weak']\n",
      " ['Rain' 'Mild' 'High' 'Weak']\n",
      " ['Rain' 'Cool' 'Normal' 'Weak']\n",
      " ['Rain' 'Cool' 'Normal' 'Strong']\n",
      " ['Overcast' 'Cool' 'Normal' 'Strong']\n",
      " ['Sunny' 'Mild' 'High' 'Weak']\n",
      " ['Sunny' 'Cool' 'Normal' 'Weak']\n",
      " ['Rain' 'Mild' 'Normal' 'Weak']\n",
      " ['Sunny' 'Mild' 'Normal' 'Strong']\n",
      " ['Overcast' 'Mild' 'High' 'Strong']\n",
      " ['Overcast' 'Hot' 'Normal' 'Weak']\n",
      " ['Rain' 'Mild' 'High' 'Strong']]\n",
      "label\n",
      " ['No' 'No' 'Yes' 'Yes' 'Yes' 'No' 'Yes' 'No' 'Yes' 'Yes' 'Yes' 'Yes' 'Yes'\n",
      " 'No']\n",
      "decision tree:\n",
      " {'outlook = Overcast': array(['Yes', 'Yes', 'Yes', 'Yes'], dtype=object), 'outlook = Rain': {'wind = Strong': array(['No', 'No'], dtype=object), 'wind = Weak': array(['Yes', 'Yes', 'Yes'], dtype=object)}, 'outlook = Sunny': {'humidity = High': array(['No', 'No', 'No'], dtype=object), 'humidity = Normal': array(['Yes', 'Yes'], dtype=object)}}\n"
     ]
    }
   ],
   "source": [
    "print(attribute)\n",
    "print(x)\n",
    "print(\"label\\n\",y)\n",
    "print(\"decision tree:\\n\",make_tree(x,y,attribute))"
   ]
  },
  {
   "cell_type": "code",
   "execution_count": 17,
   "metadata": {},
   "outputs": [],
   "source": [
    "def _traverse(x,d,attribute):\n",
    "    if isinstance(d,np.ndarray):\n",
    "        return d\n",
    "    for key in d:\n",
    "        name,value=key.split(\"=\")\n",
    "        feature_idx=attribute.tolist().index(name.strip())\n",
    "        if x[feature_idx]==value.strip():\n",
    "            return _traverse(x,d[key],attribute)"
   ]
  },
  {
   "cell_type": "code",
   "execution_count": 18,
   "metadata": {},
   "outputs": [
    {
     "data": {
      "text/plain": [
       "array(['Yes', 'Yes', 'Yes'], dtype=object)"
      ]
     },
     "execution_count": 18,
     "metadata": {},
     "output_type": "execute_result"
    }
   ],
   "source": [
    "_traverse(np.array(['Rain','Mild','High','Weak']),make_tree(x,y,attribute),attribute)"
   ]
  },
  {
   "cell_type": "code",
   "execution_count": null,
   "metadata": {},
   "outputs": [],
   "source": []
  }
 ],
 "metadata": {
  "kernelspec": {
   "display_name": "Python 3",
   "language": "python",
   "name": "python3"
  },
  "language_info": {
   "codemirror_mode": {
    "name": "ipython",
    "version": 3
   },
   "file_extension": ".py",
   "mimetype": "text/x-python",
   "name": "python",
   "nbconvert_exporter": "python",
   "pygments_lexer": "ipython3",
   "version": "3.8.5"
  }
 },
 "nbformat": 4,
 "nbformat_minor": 4
}
