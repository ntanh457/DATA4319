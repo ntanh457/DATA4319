{
 "cells": [
  {
   "cell_type": "code",
   "execution_count": 175,
   "metadata": {
    "colab": {
     "base_uri": "https://localhost:8080/",
     "height": 467,
     "output_embedded_package_id": "1CCGlj8_bqaNEIpCtSd0QiNnPYZumbzEB"
    },
    "executionInfo": {
     "elapsed": 6034,
     "status": "ok",
     "timestamp": 1606688743859,
     "user": {
      "displayName": "Nguyen tuan anh",
      "photoUrl": "",
      "userId": "09926655917568751670"
     },
     "user_tz": 360
    },
    "id": "_kT_r3JeXNWu",
    "outputId": "57e6daf4-1d9d-4330-b94f-e967f6ce790f"
   },
   "outputs": [
    {
     "data": {
      "text/plain": [
       "Output hidden; open in https://colab.research.google.com to view."
      ]
     },
     "metadata": {},
     "output_type": "display_data"
    }
   ],
   "source": [
    "from IPython.display import HTML\n",
    "import plotly.express as px\n",
    "import numpy as np\n",
    "import cufflinks\n",
    "cufflinks.go_offline()\n",
    "cufflinks.set_config_file(world_readable=True, theme='pearl')\n",
    "import plotly.graph_objs as go\n",
    "import pandas as pd\n",
    "import matplotlib.pyplot as plt\n",
    "\n",
    "df = px.data.iris().iloc[:100,:].sample(n = 18)\n",
    "fig = px.scatter(df, x=\"sepal_length\", y=\"sepal_width\", color=\"species\",template=\"plotly_dark\")\n",
    "HTML(fig.to_html())"
   ]
  },
  {
   "cell_type": "code",
   "execution_count": 176,
   "metadata": {
    "executionInfo": {
     "elapsed": 637,
     "status": "ok",
     "timestamp": 1606688747084,
     "user": {
      "displayName": "Nguyen tuan anh",
      "photoUrl": "",
      "userId": "09926655917568751670"
     },
     "user_tz": 360
    },
    "id": "ETzBshUYYm2Z"
   },
   "outputs": [],
   "source": [
    "X_data=df.iloc[:,[0,1]]\n",
    "Y_data=[y if y==1 else -1 for y in df.iloc[:100,-1]]"
   ]
  },
  {
   "cell_type": "code",
   "execution_count": 115,
   "metadata": {
    "executionInfo": {
     "elapsed": 509,
     "status": "ok",
     "timestamp": 1606688395651,
     "user": {
      "displayName": "Nguyen tuan anh",
      "photoUrl": "",
      "userId": "09926655917568751670"
     },
     "user_tz": 360
    },
    "id": "e-PUlArNZGyY"
   },
   "outputs": [],
   "source": [
    "def sign(weights,x):\n",
    "    x_new=np.append(x,1)\n",
    "    return 1 if np.dot(weights,x_new)>0 else -1"
   ]
  },
  {
   "cell_type": "code",
   "execution_count": 116,
   "metadata": {
    "executionInfo": {
     "elapsed": 573,
     "status": "ok",
     "timestamp": 1606688398145,
     "user": {
      "displayName": "Nguyen tuan anh",
      "photoUrl": "",
      "userId": "09926655917568751670"
     },
     "user_tz": 360
    },
    "id": "x5ti_8ewZLIW"
   },
   "outputs": [],
   "source": [
    "def perceptron_update(weights,x,y):\n",
    "    if sign(weights,x)!=y:\n",
    "        weights = weights+ y*np.append(x,1)\n",
    "    return weights"
   ]
  },
  {
   "cell_type": "code",
   "execution_count": 118,
   "metadata": {
    "executionInfo": {
     "elapsed": 603,
     "status": "ok",
     "timestamp": 1606688401273,
     "user": {
      "displayName": "Nguyen tuan anh",
      "photoUrl": "",
      "userId": "09926655917568751670"
     },
     "user_tz": 360
    },
    "id": "CD2_5rDQZMRj"
   },
   "outputs": [],
   "source": [
    "def error(weights, feature_set, labels):\n",
    "    count=0\n",
    "    for i in range(len(feature_set)):\n",
    "        if sign(weights,feature_set[i])!=labels[i]:\n",
    "            count=count+1\n",
    "        else:\n",
    "            count=count+0\n",
    "    return count"
   ]
  },
  {
   "cell_type": "code",
   "execution_count": 106,
   "metadata": {
    "executionInfo": {
     "elapsed": 629,
     "status": "ok",
     "timestamp": 1606688370203,
     "user": {
      "displayName": "Nguyen tuan anh",
      "photoUrl": "",
      "userId": "09926655917568751670"
     },
     "user_tz": 360
    },
    "id": "NfEcHM0YZRYJ"
   },
   "outputs": [],
   "source": [
    "def perceptron_learning_algorithm(num,feature_set,labels,e):\n",
    "    count=50000\n",
    "    feature_set=feature_set.values.tolist()\n",
    "    weights=np.random.rand(num)\n",
    "    error_measures=[]\n",
    "    error_measures.append(error(weights,feature_set,labels))\n",
    "    \n",
    "    weight_vector=[]\n",
    "    weight=[]\n",
    "    \n",
    "    while error(weights,feature_set,labels)>e:\n",
    "        count=count-1\n",
    "        for i in range(len(feature_set)):\n",
    "            weights=perceptron_update(weights,feature_set[i],labels[i])\n",
    "        weight_vector.append(weights)\n",
    "        error_measures.append(error(weights,feature_set,labels))\n",
    "        \n",
    "        if count==0:\n",
    "            break\n",
    "            \n",
    "    return weights,weight_vector,error_measures"
   ]
  },
  {
   "cell_type": "code",
   "execution_count": 177,
   "metadata": {
    "executionInfo": {
     "elapsed": 541,
     "status": "ok",
     "timestamp": 1606688750654,
     "user": {
      "displayName": "Nguyen tuan anh",
      "photoUrl": "",
      "userId": "09926655917568751670"
     },
     "user_tz": 360
    },
    "id": "9aiwWaBcZTpN"
   },
   "outputs": [],
   "source": [
    "w,W, error_points= perceptron_learning_algorithm(3,X_data, Y_data,0)"
   ]
  },
  {
   "cell_type": "code",
   "execution_count": 156,
   "metadata": {
    "colab": {
     "base_uri": "https://localhost:8080/"
    },
    "executionInfo": {
     "elapsed": 669,
     "status": "ok",
     "timestamp": 1606688641333,
     "user": {
      "displayName": "Nguyen tuan anh",
      "photoUrl": "",
      "userId": "09926655917568751670"
     },
     "user_tz": 360
    },
    "id": "d6Ta-1Xkd-Uf",
    "outputId": "4f2acb05-338c-4e36-efe8-c78d24953d46"
   },
   "outputs": [
    {
     "data": {
      "text/plain": [
       "array([-2.43615042,  3.91357173,  0.77136471])"
      ]
     },
     "execution_count": 156,
     "metadata": {
      "tags": []
     },
     "output_type": "execute_result"
    }
   ],
   "source": [
    "w"
   ]
  },
  {
   "cell_type": "code",
   "execution_count": 178,
   "metadata": {
    "colab": {
     "base_uri": "https://localhost:8080/"
    },
    "executionInfo": {
     "elapsed": 627,
     "status": "ok",
     "timestamp": 1606688752027,
     "user": {
      "displayName": "Nguyen tuan anh",
      "photoUrl": "",
      "userId": "09926655917568751670"
     },
     "user_tz": 360
    },
    "id": "QLAGNliiZWrI",
    "outputId": "0961f87a-b9b6-4eed-a6c5-8ff992f354cd"
   },
   "outputs": [
    {
     "data": {
      "text/plain": [
       "[array([4.24561635, 4.152823  , 1.66744774]),\n",
       " array([-1.05438365,  6.152823  ,  1.66744774]),\n",
       " array([-4.05438365,  8.252823  ,  1.66744774]),\n",
       " array([-5.15438365,  8.452823  ,  1.66744774])]"
      ]
     },
     "execution_count": 178,
     "metadata": {
      "tags": []
     },
     "output_type": "execute_result"
    }
   ],
   "source": [
    "W"
   ]
  },
  {
   "cell_type": "code",
   "execution_count": 122,
   "metadata": {
    "colab": {
     "base_uri": "https://localhost:8080/"
    },
    "executionInfo": {
     "elapsed": 1034,
     "status": "ok",
     "timestamp": 1606688411758,
     "user": {
      "displayName": "Nguyen tuan anh",
      "photoUrl": "",
      "userId": "09926655917568751670"
     },
     "user_tz": 360
    },
    "id": "bWHmiurIemm8",
    "outputId": "e55dfbf4-8c4e-431d-ed1e-0c16bb382ee0"
   },
   "outputs": [
    {
     "data": {
      "text/plain": [
       "-6.504844011927399"
      ]
     },
     "execution_count": 122,
     "metadata": {
      "tags": []
     },
     "output_type": "execute_result"
    }
   ],
   "source": [
    "W[0][0]"
   ]
  },
  {
   "cell_type": "code",
   "execution_count": 123,
   "metadata": {
    "colab": {
     "base_uri": "https://localhost:8080/"
    },
    "executionInfo": {
     "elapsed": 634,
     "status": "ok",
     "timestamp": 1606688413195,
     "user": {
      "displayName": "Nguyen tuan anh",
      "photoUrl": "",
      "userId": "09926655917568751670"
     },
     "user_tz": 360
    },
    "id": "6GTwP4AIioJj",
    "outputId": "df0504bf-26e4-4c83-f7ec-fe85f0f02c60"
   },
   "outputs": [
    {
     "data": {
      "text/plain": [
       "[5.0, 5.1, 4.4, 5.0, 5.4, 5.0]"
      ]
     },
     "execution_count": 123,
     "metadata": {
      "tags": []
     },
     "output_type": "execute_result"
    }
   ],
   "source": [
    "x_setosa=df[df.iloc[:,-1]==1].iloc[:,[0,1]]\n",
    "x_versicolor=df[df.iloc[:,-1]==2].iloc[:,[0,1]]\n",
    "x_setosa.iloc[:,0].values.tolist()\n",
    "#y=X_data.iloc[:,1].values.tolist()"
   ]
  },
  {
   "cell_type": "code",
   "execution_count": 179,
   "metadata": {
    "colab": {
     "base_uri": "https://localhost:8080/"
    },
    "executionInfo": {
     "elapsed": 622,
     "status": "ok",
     "timestamp": 1606688757147,
     "user": {
      "displayName": "Nguyen tuan anh",
      "photoUrl": "",
      "userId": "09926655917568751670"
     },
     "user_tz": 360
    },
    "id": "243QiJsG4rYG",
    "outputId": "7b7c182d-d06f-4666-d27e-7e8adcea9022"
   },
   "outputs": [
    {
     "name": "stdout",
     "output_type": "stream",
     "text": [
      "0\n",
      "1\n",
      "2\n",
      "3\n"
     ]
    }
   ],
   "source": [
    "for i in range(len(W)):\n",
    "  print(i)"
   ]
  },
  {
   "cell_type": "code",
   "execution_count": 180,
   "metadata": {
    "colab": {
     "base_uri": "https://localhost:8080/",
     "height": 1000,
     "output_embedded_package_id": "15W9zFmNX53T1RnM23pO_V8TeHT-QCi1x"
    },
    "executionInfo": {
     "elapsed": 6014,
     "status": "ok",
     "timestamp": 1606688764897,
     "user": {
      "displayName": "Nguyen tuan anh",
      "photoUrl": "",
      "userId": "09926655917568751670"
     },
     "user_tz": 360
    },
    "id": "R_t5U_ctbIWM",
    "outputId": "05c32ee3-0150-4712-d7cf-87a8dea90a19"
   },
   "outputs": [
    {
     "data": {
      "text/plain": [
       "Output hidden; open in https://colab.research.google.com to view."
      ]
     },
     "metadata": {},
     "output_type": "display_data"
    }
   ],
   "source": [
    "from plotly.subplots import make_subplots\n",
    "\n",
    "fig= make_subplots(rows=int(len(W)/2), cols=2)\n",
    "\n",
    "for i in range(len(W)):\n",
    "  if i%2==0:\n",
    "    a=i//2\n",
    "    b=1\n",
    "  else:\n",
    "    a=i//2\n",
    "    b=2\n",
    "  x_plot=[min(df.iloc[:,0])-0.5, max(df.iloc[:,0])+0.5]\n",
    "  y_plot=[(-W[i][2]-W[i][0]*j)/W[i][1] for j in x_plot ]\n",
    "  fig.add_trace( go.Scatter(\n",
    "        x=x_setosa.iloc[:,0].values.tolist(),\n",
    "        y=x_setosa.iloc[:,1].values.tolist(),\n",
    "        mode='markers',marker=dict(\n",
    "            color='red'),showlegend=False),row=a+1,col=b)\n",
    "  fig.add_trace( go.Scatter(\n",
    "        x=x_versicolor.iloc[:,0].values.tolist(),\n",
    "        y=x_versicolor.iloc[:,1].values.tolist(),\n",
    "        mode='markers',marker=dict(\n",
    "            color='blue'),showlegend=False),row=a+1,col=b)\n",
    "  fig.add_trace(go.Scatter(\n",
    "        x=x_plot,\n",
    "        y=y_plot,\n",
    "        mode=\"lines\",\n",
    "        name=\"PCA line\",marker=dict(\n",
    "            color='green')\n",
    "    ,showlegend=False),row=a+1,col=b)\n",
    "\n",
    "fig.update_layout(\n",
    "    autosize=False,\n",
    "    width=1200,\n",
    "    height=2000)\n",
    "\n",
    "HTML(fig.to_html())"
   ]
  },
  {
   "cell_type": "code",
   "execution_count": 192,
   "metadata": {
    "colab": {
     "base_uri": "https://localhost:8080/",
     "height": 992,
     "output_embedded_package_id": "11JDeu23C2noPXxk3siEn4Q2bt4oQhzQP"
    },
    "executionInfo": {
     "elapsed": 7036,
     "status": "ok",
     "timestamp": 1606688912854,
     "user": {
      "displayName": "Nguyen tuan anh",
      "photoUrl": "",
      "userId": "09926655917568751670"
     },
     "user_tz": 360
    },
    "id": "2SHATfwhEF0a",
    "outputId": "7f1da156-0437-4439-e167-ac3b66b58d6f"
   },
   "outputs": [
    {
     "data": {
      "text/plain": [
       "Output hidden; open in https://colab.research.google.com to view."
      ]
     },
     "metadata": {},
     "output_type": "display_data"
    }
   ],
   "source": [
    "df = px.data.iris().iloc[:100,:]\n",
    "fig = px.scatter(df, x=\"sepal_length\", y=\"sepal_width\", color=\"species\",template=\"plotly_dark\")\n",
    "fig.show()\n",
    "HTML(fig.to_html())"
   ]
  },
  {
   "cell_type": "code",
   "execution_count": 195,
   "metadata": {
    "executionInfo": {
     "elapsed": 614,
     "status": "ok",
     "timestamp": 1606688943308,
     "user": {
      "displayName": "Nguyen tuan anh",
      "photoUrl": "",
      "userId": "09926655917568751670"
     },
     "user_tz": 360
    },
    "id": "-8XSjVZAENSG"
   },
   "outputs": [],
   "source": [
    "X_data=px.data.iris().iloc[:100,[0,1]]\n",
    "Y_data=[y if y==1 else -1 for y in px.data.iris().iloc[:100,-1]]"
   ]
  },
  {
   "cell_type": "code",
   "execution_count": 196,
   "metadata": {
    "executionInfo": {
     "elapsed": 2891,
     "status": "ok",
     "timestamp": 1606688946274,
     "user": {
      "displayName": "Nguyen tuan anh",
      "photoUrl": "",
      "userId": "09926655917568751670"
     },
     "user_tz": 360
    },
    "id": "KpUvw02pEPXm"
   },
   "outputs": [],
   "source": [
    "w,W, error_points= perceptron_learning_algorithm(3,X_data, Y_data,0)"
   ]
  },
  {
   "cell_type": "code",
   "execution_count": 198,
   "metadata": {
    "colab": {
     "base_uri": "https://localhost:8080/",
     "height": 992,
     "output_embedded_package_id": "1yTxwhXWMJqQ9msmXodDOEI-FsrGRrMb-"
    },
    "executionInfo": {
     "elapsed": 6374,
     "status": "ok",
     "timestamp": 1606688989615,
     "user": {
      "displayName": "Nguyen tuan anh",
      "photoUrl": "",
      "userId": "09926655917568751670"
     },
     "user_tz": 360
    },
    "id": "7sxdcKQXEUq_",
    "outputId": "00546b49-99bf-4873-ef40-4a204412fb50"
   },
   "outputs": [
    {
     "data": {
      "text/plain": [
       "Output hidden; open in https://colab.research.google.com to view."
      ]
     },
     "metadata": {},
     "output_type": "display_data"
    }
   ],
   "source": [
    "fig = go.Figure()\n",
    "x_plot=[min(px.data.iris().iloc[:100,0])-0.5, max(px.data.iris().iloc[:100,0])+0.5]\n",
    "y_plot=[(-w[2]-w[0]*i)/w[1] for i in x_plot ]\n",
    "fig = px.scatter(df, x=\"sepal_length\", y=\"sepal_width\", color=\"species\",template=\"plotly_dark\")\n",
    "\n",
    "fig.add_trace(\n",
    "    go.Scatter(\n",
    "        x=x_plot,\n",
    "        y=y_plot,\n",
    "        mode=\"lines\",\n",
    "        name=\"PCA line\"\n",
    "    ))\n",
    "\n",
    "fig.show()\n",
    "HTML(fig.to_html())"
   ]
  },
  {
   "cell_type": "code",
   "execution_count": 199,
   "metadata": {
    "colab": {
     "base_uri": "https://localhost:8080/",
     "height": 992,
     "output_embedded_package_id": "1qF_7c96MLl711TjV3G3vwHdbJsK9UddG"
    },
    "executionInfo": {
     "elapsed": 5947,
     "status": "ok",
     "timestamp": 1606689021416,
     "user": {
      "displayName": "Nguyen tuan anh",
      "photoUrl": "",
      "userId": "09926655917568751670"
     },
     "user_tz": 360
    },
    "id": "hXu8OyqqIJsr",
    "outputId": "3810a3c1-4c61-45f1-827f-cd8674098ca1"
   },
   "outputs": [
    {
     "data": {
      "text/plain": [
       "Output hidden; open in https://colab.research.google.com to view."
      ]
     },
     "metadata": {},
     "output_type": "display_data"
    }
   ],
   "source": [
    "fig = go.Figure(data=go.Scatter(x=[i+1 for i in range(len(error_points))], y=error_points))\n",
    "fig.update_layout(xaxis_title = \"epochs\", \n",
    "                    yaxis_title = \"number of misclassifications\",template=\"plotly_dark\")\n",
    "fig.show()\n",
    "HTML(fig.to_html())"
   ]
  }
 ],
 "metadata": {
  "colab": {
   "authorship_tag": "ABX9TyO8Ki3dcBb2bkeb2mnXD3vA",
   "name": "Perceptron_python.ipynb",
   "provenance": []
  },
  "kernelspec": {
   "display_name": "Python 3",
   "language": "python",
   "name": "python3"
  },
  "language_info": {
   "codemirror_mode": {
    "name": "ipython",
    "version": 3
   },
   "file_extension": ".py",
   "mimetype": "text/x-python",
   "name": "python",
   "nbconvert_exporter": "python",
   "pygments_lexer": "ipython3",
   "version": "3.7.4"
  }
 },
 "nbformat": 4,
 "nbformat_minor": 1
}
